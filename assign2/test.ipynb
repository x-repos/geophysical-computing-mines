{
 "cells": [
  {
   "cell_type": "code",
   "execution_count": 15,
   "metadata": {},
   "outputs": [
    {
     "name": "stdout",
     "output_type": "stream",
     "text": [
      "[ 1.   -4.    1.75]\n",
      "x_1:          0.05615\n",
      "x_2:          0.25936\n",
      "x_3:         -0.01872\n",
      "x_builtin_1:  0.05615\n",
      "x_builtin_2:  0.25936\n",
      "x_builtin_3: -0.01872\n"
     ]
    }
   ],
   "source": [
    "import numpy as np\n",
    "\n",
    "def luDecomp(A):\n",
    "    n = A.shape[0]\n",
    "    U = np.zeros((n, n))\n",
    "    L = np.eye(n)\n",
    "    for k in range(n):\n",
    "        for j in range(k,n):\n",
    "            sm = 0\n",
    "            for m in range(k):\n",
    "                sm = sm + L[k,m]*U[m,j]\n",
    "            U[k,j]=A[k,j]-sm\n",
    "        for i in range(k+1, n):\n",
    "            sm = 0\n",
    "            for m in range(k):\n",
    "                sm = sm + L[i,m] * U[m,k]\n",
    "            L[i,k] = 1/U[k,k] * (A[i,k] - sm)\n",
    "        \n",
    "    return L, U\n",
    "\n",
    "def forward_substitution(L, b):\n",
    "    n = L.shape[0]\n",
    "    y = np.zeros_like(b);\n",
    "    y[0] = b[0] / L[0, 0]\n",
    "    for i in range(1,n):\n",
    "        sm = 0\n",
    "        for j in range(i):\n",
    "            sm = sm + L[i,j]*y[j]\n",
    "        y[i] = 1/L[i,i] * (b[i]-sm)\n",
    "    return y\n",
    "\n",
    "def back_substitution(U, y):\n",
    "    n = U.shape[0]\n",
    "    x = np.zeros_like(y);\n",
    "    x[-1] = y[-1] / U[-1, -1]\n",
    "    for i in range(n-2, -1, -1):\n",
    "        sm = 0\n",
    "        for j in range(i+1, n):\n",
    "            sm = sm + U[i,j]*x[j]\n",
    "        x[i] = 1/U[i,i]*(y[i] - sm)\n",
    "    return x\n",
    "\n",
    "def luSolve(A, b):\n",
    "    L, U = luDecomp(A)\n",
    "    y = forward_substitution(L, b)\n",
    "    print(y)\n",
    "    return back_substitution(U, y)\n",
    "\n",
    "n = 3\n",
    "# A = np.random.random((n,n))\n",
    "# b = np.random.random((n,1))\n",
    "A = np.array([[1, 4, 5], [6, 8, 22], [32, 5., 5]])\n",
    "b = np.array([1, 2, 3.])\n",
    "x = luSolve(A, b)\n",
    "for i in range(n):\n",
    "    print(\"x_%d: %16.5f\" %(i+1, x[i]))\n",
    "\n",
    "# check results by built-in function:\n",
    "xy = np.linalg.solve(A, b)\n",
    "for i in range(n):\n",
    "    print(\"x_builtin_%d: %8.5f\" %(i+1, xy[i]))"
   ]
  }
 ],
 "metadata": {
  "kernelspec": {
   "display_name": "obspy",
   "language": "python",
   "name": "python3"
  },
  "language_info": {
   "codemirror_mode": {
    "name": "ipython",
    "version": 3
   },
   "file_extension": ".py",
   "mimetype": "text/x-python",
   "name": "python",
   "nbconvert_exporter": "python",
   "pygments_lexer": "ipython3",
   "version": "3.11.3"
  },
  "orig_nbformat": 4
 },
 "nbformat": 4,
 "nbformat_minor": 2
}
